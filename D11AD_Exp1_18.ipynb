{
  "nbformat": 4,
  "nbformat_minor": 0,
  "metadata": {
    "colab": {
      "provenance": [],
      "authorship_tag": "ABX9TyOPcv8sL+gk1MB5GKQYV3ZT",
      "include_colab_link": true
    },
    "kernelspec": {
      "name": "ir",
      "display_name": "R"
    },
    "language_info": {
      "name": "R"
    }
  },
  "cells": [
    {
      "cell_type": "markdown",
      "metadata": {
        "id": "view-in-github",
        "colab_type": "text"
      },
      "source": [
        "<a href=\"https://colab.research.google.com/github/himanshugoyal77/DAV_LAB/blob/main/D11AD_Exp1_18.ipynb\" target=\"_parent\"><img src=\"https://colab.research.google.com/assets/colab-badge.svg\" alt=\"Open In Colab\"/></a>"
      ]
    },
    {
      "cell_type": "markdown",
      "source": [
        "**Python Libraries**"
      ],
      "metadata": {
        "id": "VaLl8iqMXDwL"
      }
    },
    {
      "cell_type": "code",
      "source": [
        "!pip install numpy\n",
        "!pip install scikit-learn"
      ],
      "metadata": {
        "colab": {
          "base_uri": "https://localhost:8080/"
        },
        "id": "OizNgYfMXLhU",
        "outputId": "c3898e7b-070c-4704-9ba2-d83e7873aacf"
      },
      "execution_count": 1,
      "outputs": [
        {
          "output_type": "stream",
          "name": "stdout",
          "text": [
            "Requirement already satisfied: numpy in /usr/local/lib/python3.10/dist-packages (1.23.5)\n",
            "Requirement already satisfied: scikit-learn in /usr/local/lib/python3.10/dist-packages (1.2.2)\n",
            "Requirement already satisfied: numpy>=1.17.3 in /usr/local/lib/python3.10/dist-packages (from scikit-learn) (1.23.5)\n",
            "Requirement already satisfied: scipy>=1.3.2 in /usr/local/lib/python3.10/dist-packages (from scikit-learn) (1.11.4)\n",
            "Requirement already satisfied: joblib>=1.1.1 in /usr/local/lib/python3.10/dist-packages (from scikit-learn) (1.3.2)\n",
            "Requirement already satisfied: threadpoolctl>=2.0.0 in /usr/local/lib/python3.10/dist-packages (from scikit-learn) (3.2.0)\n"
          ]
        }
      ]
    },
    {
      "cell_type": "code",
      "source": [
        "import pandas as pd\n",
        "import sklearn.datasets as dataset"
      ],
      "metadata": {
        "id": "vC75cGX9XNsE"
      },
      "execution_count": 3,
      "outputs": []
    },
    {
      "cell_type": "code",
      "source": [
        "data = dataset.load_iris()\n",
        "df = pd.DataFrame(data.data,columns=data.feature_names)"
      ],
      "metadata": {
        "id": "loHOc6BxXQMa"
      },
      "execution_count": 4,
      "outputs": []
    },
    {
      "cell_type": "code",
      "source": [
        "print(df.sample(n=10))"
      ],
      "metadata": {
        "colab": {
          "base_uri": "https://localhost:8080/"
        },
        "id": "e93W2Fi4XUcD",
        "outputId": "45bd300b-6fec-4f0b-8707-58499f9e9a1d"
      },
      "execution_count": 5,
      "outputs": [
        {
          "output_type": "stream",
          "name": "stdout",
          "text": [
            "     sepal length (cm)  sepal width (cm)  petal length (cm)  petal width (cm)\n",
            "104                6.5               3.0                5.8               2.2\n",
            "36                 5.5               3.5                1.3               0.2\n",
            "81                 5.5               2.4                3.7               1.0\n",
            "25                 5.0               3.0                1.6               0.2\n",
            "103                6.3               2.9                5.6               1.8\n",
            "30                 4.8               3.1                1.6               0.2\n",
            "23                 5.1               3.3                1.7               0.5\n",
            "20                 5.4               3.4                1.7               0.2\n",
            "32                 5.2               4.1                1.5               0.1\n",
            "132                6.4               2.8                5.6               2.2\n"
          ]
        }
      ]
    },
    {
      "cell_type": "markdown",
      "source": [
        "**R Libraries**"
      ],
      "metadata": {
        "id": "E67obddOXdXT"
      }
    },
    {
      "cell_type": "code",
      "source": [
        "install.packages (\"tidyverse\")"
      ],
      "metadata": {
        "id": "RQ7CTh2JXhOM"
      },
      "execution_count": null,
      "outputs": []
    },
    {
      "cell_type": "code",
      "source": [
        "library(dplyr)\n",
        "library(tidyr)\n",
        "\n",
        "library(tidyr)\n",
        "n = 10\n",
        "tidy_dataframe = data.frame(\n",
        "                      S.No = c(1:n),\n",
        "                    Group.1 = c(23, 345, 76, 212, 88,\n",
        "                                199, 72, 35, 90, 265),\n",
        "                    Group.2 = c(117, 89, 66, 334, 90,\n",
        "                               101, 178, 233, 45, 200),\n",
        "                    Group.3 = c(29, 101, 239, 289, 176,\n",
        "                                320, 89, 109, 199, 56))"
      ],
      "metadata": {
        "colab": {
          "base_uri": "https://localhost:8080/"
        },
        "id": "hJ_CQ0zXXlQ9",
        "outputId": "357be144-22d9-4616-b8e1-5c85ad5b8ab9"
      },
      "execution_count": 1,
      "outputs": [
        {
          "output_type": "stream",
          "name": "stderr",
          "text": [
            "\n",
            "Attaching package: ‘dplyr’\n",
            "\n",
            "\n",
            "The following objects are masked from ‘package:stats’:\n",
            "\n",
            "    filter, lag\n",
            "\n",
            "\n",
            "The following objects are masked from ‘package:base’:\n",
            "\n",
            "    intersect, setdiff, setequal, union\n",
            "\n",
            "\n"
          ]
        }
      ]
    },
    {
      "cell_type": "code",
      "source": [
        "d <- data.frame(name = c(\"Abhi\", \"Bhavesh\", \"Chaman\", \"Dimri\"),\n",
        "\t\t\t\tage = c(7, 5, 9, 16),\n",
        "\t\t\t\tht = c(46, NA, NA, 69),\n",
        "\t\t\t\tschool = c(\"yes\", \"yes\", \"no\", \"no\"))\n",
        "\n"
      ],
      "metadata": {
        "id": "Icd20o74XwlC"
      },
      "execution_count": 2,
      "outputs": []
    },
    {
      "cell_type": "code",
      "source": [
        "print(tidy_dataframe)\n",
        "\n",
        "print(d)\n",
        "rows_with_na <- d %>% filter(is.na(ht))\n",
        "\n",
        "print(rows_with_na)\n",
        "\n",
        "rows_without_na <- d %>% filter(!is.na(ht))\n",
        "print(rows_without_na)"
      ],
      "metadata": {
        "colab": {
          "base_uri": "https://localhost:8080/"
        },
        "id": "fsi3d-_hXyhi",
        "outputId": "7ab2254a-4eff-48da-bada-e9f4f21607a0"
      },
      "execution_count": 3,
      "outputs": [
        {
          "output_type": "stream",
          "name": "stdout",
          "text": [
            "   S.No Group.1 Group.2 Group.3\n",
            "1     1      23     117      29\n",
            "2     2     345      89     101\n",
            "3     3      76      66     239\n",
            "4     4     212     334     289\n",
            "5     5      88      90     176\n",
            "6     6     199     101     320\n",
            "7     7      72     178      89\n",
            "8     8      35     233     109\n",
            "9     9      90      45     199\n",
            "10   10     265     200      56\n",
            "     name age ht school\n",
            "1    Abhi   7 46    yes\n",
            "2 Bhavesh   5 NA    yes\n",
            "3  Chaman   9 NA     no\n",
            "4   Dimri  16 69     no\n",
            "     name age ht school\n",
            "1 Bhavesh   5 NA    yes\n",
            "2  Chaman   9 NA     no\n",
            "   name age ht school\n",
            "1  Abhi   7 46    yes\n",
            "2 Dimri  16 69     no\n"
          ]
        }
      ]
    },
    {
      "cell_type": "code",
      "source": [],
      "metadata": {
        "id": "Y5P7_fBVX2xC"
      },
      "execution_count": null,
      "outputs": []
    }
  ]
}